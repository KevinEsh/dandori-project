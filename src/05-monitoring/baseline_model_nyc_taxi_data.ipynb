{
 "cells": [
  {
   "cell_type": "markdown",
   "id": "edab3cd3-e5a8-4b63-8b8d-c9ef758571b8",
   "metadata": {},
   "source": [
    "# Baseline model for batch monitoring example"
   ]
  },
  {
   "cell_type": "code",
   "execution_count": 2,
   "id": "b54264e6eb117908",
   "metadata": {},
   "outputs": [
    {
     "ename": "ImportError",
     "evalue": "cannot import name 'DataDefinition' from 'evidently' (/workspaces/dandori-project/.venv/lib/python3.12/site-packages/evidently/__init__.py)",
     "output_type": "error",
     "traceback": [
      "\u001b[31m---------------------------------------------------------------------------\u001b[39m",
      "\u001b[31mImportError\u001b[39m                               Traceback (most recent call last)",
      "\u001b[36mCell\u001b[39m\u001b[36m \u001b[39m\u001b[32mIn[2]\u001b[39m\u001b[32m, line 5\u001b[39m\n\u001b[32m      2\u001b[39m \u001b[38;5;28;01mimport\u001b[39;00m\u001b[38;5;250m \u001b[39m\u001b[34;01mdatetime\u001b[39;00m\n\u001b[32m      3\u001b[39m \u001b[38;5;28;01mimport\u001b[39;00m\u001b[38;5;250m \u001b[39m\u001b[34;01mpolars\u001b[39;00m\u001b[38;5;250m \u001b[39m\u001b[38;5;28;01mas\u001b[39;00m\u001b[38;5;250m \u001b[39m\u001b[34;01mpl\u001b[39;00m\n\u001b[32m----> \u001b[39m\u001b[32m5\u001b[39m \u001b[38;5;28;01mfrom\u001b[39;00m\u001b[38;5;250m \u001b[39m\u001b[34;01mevidently\u001b[39;00m\u001b[38;5;250m \u001b[39m\u001b[38;5;28;01mimport\u001b[39;00m DataDefinition\n\u001b[32m      6\u001b[39m \u001b[38;5;28;01mfrom\u001b[39;00m\u001b[38;5;250m \u001b[39m\u001b[34;01mevidently\u001b[39;00m\u001b[38;5;250m \u001b[39m\u001b[38;5;28;01mimport\u001b[39;00m Dataset\n\u001b[32m      7\u001b[39m \u001b[38;5;28;01mfrom\u001b[39;00m\u001b[38;5;250m \u001b[39m\u001b[34;01mevidently\u001b[39;00m\u001b[38;5;250m \u001b[39m\u001b[38;5;28;01mimport\u001b[39;00m Report\n",
      "\u001b[31mImportError\u001b[39m: cannot import name 'DataDefinition' from 'evidently' (/workspaces/dandori-project/.venv/lib/python3.12/site-packages/evidently/__init__.py)"
     ]
    }
   ],
   "source": [
    "import requests\n",
    "import datetime\n",
    "import polars as pl\n",
    "\n",
    "from evidently import DataDefinition\n",
    "from evidently import Dataset\n",
    "from evidently import Report\n",
    "from evidently.metrics import ValueDrift, DriftedColumnsCount, MissingValueCount\n",
    "\n",
    "from joblib import load, dump\n",
    "from tqdm import tqdm\n",
    "\n",
    "from sklearn.linear_model import LinearRegression\n",
    "from sklearn.metrics import mean_absolute_error, mean_absolute_percentage_error"
   ]
  },
  {
   "cell_type": "code",
   "execution_count": null,
   "id": "ad532dbf",
   "metadata": {},
   "outputs": [
    {
     "ename": "",
     "evalue": "",
     "output_type": "error",
     "traceback": [
      "\u001b[1;31mNo se pudo iniciar el kernel porque el entorno de Python \"Python\" ya no está disponible. Considere la posibilidad de seleccionar otro kernel o de actualizar la lista de entornos de Python."
     ]
    }
   ],
   "source": [
    "from evidently import __version__\n",
    "__version__"
   ]
  },
  {
   "cell_type": "code",
   "execution_count": 36,
   "id": "c935a6bc588248d7",
   "metadata": {},
   "outputs": [
    {
     "name": "stdout",
     "output_type": "stream",
     "text": [
      "Download files:\n"
     ]
    },
    {
     "name": "stderr",
     "output_type": "stream",
     "text": [
      "green_tripdata_2024-03.parquet: 100%|██████████| 1372372/1372372 [00:11<00:00, 123319.40it/s, save to ./data/green_tripdata_2024-03.parquet]\n",
      "green_tripdata_2024-04.parquet: 100%|██████████| 1346502/1346502 [00:09<00:00, 135999.39it/s, save to ./data/green_tripdata_2024-04.parquet]\n"
     ]
    }
   ],
   "source": [
    "files = [('green_tripdata_2024-03.parquet', './data'), ('green_tripdata_2024-04.parquet', './data')]\n",
    "\n",
    "print(\"Download files:\")\n",
    "for file, path in files:\n",
    "    url=f\"https://d37ci6vzurychx.cloudfront.net/trip-data/{file}\"\n",
    "    resp=requests.get(url, stream=True)\n",
    "    save_path=f\"{path}/{file}\"\n",
    "    with open(save_path, \"wb\") as handle:\n",
    "        for data in tqdm(resp.iter_content(),\n",
    "                        desc=f\"{file}\",\n",
    "                        postfix=f\"save to {save_path}\",\n",
    "                        total=int(resp.headers[\"Content-Length\"])):\n",
    "            handle.write(data)"
   ]
  },
  {
   "cell_type": "code",
   "execution_count": 37,
   "id": "10f4d69997668ea8",
   "metadata": {},
   "outputs": [],
   "source": [
    "jan_data = pl.read_parquet('data/green_tripdata_2024-03.parquet')"
   ]
  },
  {
   "cell_type": "code",
   "execution_count": 38,
   "id": "755c48c29d032e40",
   "metadata": {},
   "outputs": [
    {
     "data": {
      "text/html": [
       "<div><style>\n",
       ".dataframe > thead > tr,\n",
       ".dataframe > tbody > tr {\n",
       "  text-align: right;\n",
       "  white-space: pre-wrap;\n",
       "}\n",
       "</style>\n",
       "<small>shape: (9, 21)</small><table border=\"1\" class=\"dataframe\"><thead><tr><th>statistic</th><th>VendorID</th><th>lpep_pickup_datetime</th><th>lpep_dropoff_datetime</th><th>store_and_fwd_flag</th><th>RatecodeID</th><th>PULocationID</th><th>DOLocationID</th><th>passenger_count</th><th>trip_distance</th><th>fare_amount</th><th>extra</th><th>mta_tax</th><th>tip_amount</th><th>tolls_amount</th><th>ehail_fee</th><th>improvement_surcharge</th><th>total_amount</th><th>payment_type</th><th>trip_type</th><th>congestion_surcharge</th></tr><tr><td>str</td><td>f64</td><td>str</td><td>str</td><td>str</td><td>f64</td><td>f64</td><td>f64</td><td>f64</td><td>f64</td><td>f64</td><td>f64</td><td>f64</td><td>f64</td><td>f64</td><td>f64</td><td>f64</td><td>f64</td><td>f64</td><td>f64</td><td>f64</td></tr></thead><tbody><tr><td>&quot;count&quot;</td><td>57457.0</td><td>&quot;57457&quot;</td><td>&quot;57457&quot;</td><td>&quot;55360&quot;</td><td>55360.0</td><td>57457.0</td><td>57457.0</td><td>55360.0</td><td>57457.0</td><td>57457.0</td><td>57457.0</td><td>57457.0</td><td>57457.0</td><td>57457.0</td><td>0.0</td><td>57457.0</td><td>57457.0</td><td>55360.0</td><td>55353.0</td><td>55360.0</td></tr><tr><td>&quot;null_count&quot;</td><td>0.0</td><td>&quot;0&quot;</td><td>&quot;0&quot;</td><td>&quot;2097&quot;</td><td>2097.0</td><td>0.0</td><td>0.0</td><td>2097.0</td><td>0.0</td><td>0.0</td><td>0.0</td><td>0.0</td><td>0.0</td><td>0.0</td><td>57457.0</td><td>0.0</td><td>0.0</td><td>2097.0</td><td>2104.0</td><td>2097.0</td></tr><tr><td>&quot;mean&quot;</td><td>1.877334</td><td>&quot;2024-03-16 04:02:52.405398&quot;</td><td>&quot;2024-03-16 04:21:00.076039&quot;</td><td>null</td><td>1.179986</td><td>95.524688</td><td>138.629149</td><td>1.309538</td><td>13.522828</td><td>17.313474</td><td>0.904472</td><td>0.57741</td><td>2.386255</td><td>0.192537</td><td>null</td><td>0.979378</td><td>22.904832</td><td>1.321062</td><td>1.038047</td><td>0.73773</td></tr><tr><td>&quot;std&quot;</td><td>0.328056</td><td>null</td><td>null</td><td>null</td><td>1.356719</td><td>57.285088</td><td>76.295346</td><td>0.967749</td><td>770.416255</td><td>14.958249</td><td>1.382446</td><td>0.366916</td><td>3.159273</td><td>1.184551</td><td>null</td><td>0.154253</td><td>17.013735</td><td>0.497858</td><td>0.191311</td><td>1.218039</td></tr><tr><td>&quot;min&quot;</td><td>1.0</td><td>&quot;2008-12-31 23:02:24&quot;</td><td>&quot;2008-12-31 23:02:30&quot;</td><td>&quot;N&quot;</td><td>1.0</td><td>1.0</td><td>1.0</td><td>0.0</td><td>0.0</td><td>-295.08</td><td>-2.5</td><td>-0.5</td><td>-1.56</td><td>0.0</td><td>null</td><td>-1.0</td><td>-296.08</td><td>1.0</td><td>1.0</td><td>-2.75</td></tr><tr><td>&quot;25%&quot;</td><td>2.0</td><td>&quot;2024-03-08 13:53:56&quot;</td><td>&quot;2024-03-08 14:13:49&quot;</td><td>null</td><td>1.0</td><td>74.0</td><td>74.0</td><td>1.0</td><td>1.1</td><td>9.3</td><td>0.0</td><td>0.5</td><td>0.0</td><td>0.0</td><td>null</td><td>1.0</td><td>13.44</td><td>1.0</td><td>1.0</td><td>0.0</td></tr><tr><td>&quot;50%&quot;</td><td>2.0</td><td>&quot;2024-03-15 22:49:01&quot;</td><td>&quot;2024-03-15 23:09:52&quot;</td><td>null</td><td>1.0</td><td>75.0</td><td>138.0</td><td>1.0</td><td>1.79</td><td>13.5</td><td>0.0</td><td>0.5</td><td>2.0</td><td>0.0</td><td>null</td><td>1.0</td><td>18.5</td><td>1.0</td><td>1.0</td><td>0.0</td></tr><tr><td>&quot;75%&quot;</td><td>2.0</td><td>&quot;2024-03-23 20:11:25&quot;</td><td>&quot;2024-03-23 20:34:48&quot;</td><td>null</td><td>1.0</td><td>97.0</td><td>220.0</td><td>1.0</td><td>3.1</td><td>19.8</td><td>1.0</td><td>0.5</td><td>3.61</td><td>0.0</td><td>null</td><td>1.0</td><td>27.05</td><td>2.0</td><td>1.0</td><td>2.75</td></tr><tr><td>&quot;max&quot;</td><td>2.0</td><td>&quot;2024-04-01 00:01:45&quot;</td><td>&quot;2024-04-01 16:11:00&quot;</td><td>&quot;Y&quot;</td><td>99.0</td><td>265.0</td><td>265.0</td><td>9.0</td><td>125112.2</td><td>841.6</td><td>10.0</td><td>4.25</td><td>150.0</td><td>26.76</td><td>null</td><td>1.0</td><td>856.98</td><td>5.0</td><td>2.0</td><td>2.75</td></tr></tbody></table></div>"
      ],
      "text/plain": [
       "shape: (9, 21)\n",
       "┌───────────┬──────────┬───────────┬───────────┬───┬───────────┬───────────┬───────────┬───────────┐\n",
       "│ statistic ┆ VendorID ┆ lpep_pick ┆ lpep_drop ┆ … ┆ total_amo ┆ payment_t ┆ trip_type ┆ congestio │\n",
       "│ ---       ┆ ---      ┆ up_dateti ┆ off_datet ┆   ┆ unt       ┆ ype       ┆ ---       ┆ n_surchar │\n",
       "│ str       ┆ f64      ┆ me        ┆ ime       ┆   ┆ ---       ┆ ---       ┆ f64       ┆ ge        │\n",
       "│           ┆          ┆ ---       ┆ ---       ┆   ┆ f64       ┆ f64       ┆           ┆ ---       │\n",
       "│           ┆          ┆ str       ┆ str       ┆   ┆           ┆           ┆           ┆ f64       │\n",
       "╞═══════════╪══════════╪═══════════╪═══════════╪═══╪═══════════╪═══════════╪═══════════╪═══════════╡\n",
       "│ count     ┆ 57457.0  ┆ 57457     ┆ 57457     ┆ … ┆ 57457.0   ┆ 55360.0   ┆ 55353.0   ┆ 55360.0   │\n",
       "│ null_coun ┆ 0.0      ┆ 0         ┆ 0         ┆ … ┆ 0.0       ┆ 2097.0    ┆ 2104.0    ┆ 2097.0    │\n",
       "│ t         ┆          ┆           ┆           ┆   ┆           ┆           ┆           ┆           │\n",
       "│ mean      ┆ 1.877334 ┆ 2024-03-1 ┆ 2024-03-1 ┆ … ┆ 22.904832 ┆ 1.321062  ┆ 1.038047  ┆ 0.73773   │\n",
       "│           ┆          ┆ 6 04:02:5 ┆ 6 04:21:0 ┆   ┆           ┆           ┆           ┆           │\n",
       "│           ┆          ┆ 2.405398  ┆ 0.076039  ┆   ┆           ┆           ┆           ┆           │\n",
       "│ std       ┆ 0.328056 ┆ null      ┆ null      ┆ … ┆ 17.013735 ┆ 0.497858  ┆ 0.191311  ┆ 1.218039  │\n",
       "│ min       ┆ 1.0      ┆ 2008-12-3 ┆ 2008-12-3 ┆ … ┆ -296.08   ┆ 1.0       ┆ 1.0       ┆ -2.75     │\n",
       "│           ┆          ┆ 1         ┆ 1         ┆   ┆           ┆           ┆           ┆           │\n",
       "│           ┆          ┆ 23:02:24  ┆ 23:02:30  ┆   ┆           ┆           ┆           ┆           │\n",
       "│ 25%       ┆ 2.0      ┆ 2024-03-0 ┆ 2024-03-0 ┆ … ┆ 13.44     ┆ 1.0       ┆ 1.0       ┆ 0.0       │\n",
       "│           ┆          ┆ 8         ┆ 8         ┆   ┆           ┆           ┆           ┆           │\n",
       "│           ┆          ┆ 13:53:56  ┆ 14:13:49  ┆   ┆           ┆           ┆           ┆           │\n",
       "│ 50%       ┆ 2.0      ┆ 2024-03-1 ┆ 2024-03-1 ┆ … ┆ 18.5      ┆ 1.0       ┆ 1.0       ┆ 0.0       │\n",
       "│           ┆          ┆ 5         ┆ 5         ┆   ┆           ┆           ┆           ┆           │\n",
       "│           ┆          ┆ 22:49:01  ┆ 23:09:52  ┆   ┆           ┆           ┆           ┆           │\n",
       "│ 75%       ┆ 2.0      ┆ 2024-03-2 ┆ 2024-03-2 ┆ … ┆ 27.05     ┆ 2.0       ┆ 1.0       ┆ 2.75      │\n",
       "│           ┆          ┆ 3         ┆ 3         ┆   ┆           ┆           ┆           ┆           │\n",
       "│           ┆          ┆ 20:11:25  ┆ 20:34:48  ┆   ┆           ┆           ┆           ┆           │\n",
       "│ max       ┆ 2.0      ┆ 2024-04-0 ┆ 2024-04-0 ┆ … ┆ 856.98    ┆ 5.0       ┆ 2.0       ┆ 2.75      │\n",
       "│           ┆          ┆ 1         ┆ 1         ┆   ┆           ┆           ┆           ┆           │\n",
       "│           ┆          ┆ 00:01:45  ┆ 16:11:00  ┆   ┆           ┆           ┆           ┆           │\n",
       "└───────────┴──────────┴───────────┴───────────┴───┴───────────┴───────────┴───────────┴───────────┘"
      ]
     },
     "execution_count": 38,
     "metadata": {},
     "output_type": "execute_result"
    }
   ],
   "source": [
    "jan_data.describe()"
   ]
  },
  {
   "cell_type": "code",
   "execution_count": 39,
   "id": "abc417723077a646",
   "metadata": {},
   "outputs": [
    {
     "data": {
      "text/plain": [
       "(57457, 20)"
      ]
     },
     "execution_count": 39,
     "metadata": {},
     "output_type": "execute_result"
    }
   ],
   "source": [
    "jan_data.shape"
   ]
  },
  {
   "cell_type": "code",
   "execution_count": 40,
   "id": "281a27332b636f09",
   "metadata": {},
   "outputs": [],
   "source": [
    "# create target\n",
    "jan_data = jan_data.with_columns(\n",
    "    duration_min = (pl.col('lpep_dropoff_datetime') - pl.col('lpep_pickup_datetime')).dt.total_seconds() /60\n",
    ").filter(\n",
    "    (pl.col('duration_min') >= 0) &\n",
    "    (pl.col('duration_min') <= 60) &\n",
    "    (pl.col('passenger_count') > 0) &\n",
    "    (pl.col('passenger_count') <= 8)\n",
    ")"
   ]
  },
  {
   "cell_type": "code",
   "execution_count": 41,
   "id": "6081a7e81e9f56f",
   "metadata": {},
   "outputs": [
    {
     "data": {
      "image/png": "[encoded data removed]",
      "text/plain": [
       "<Figure size 640x480 with 1 Axes>"
      ]
     },
     "metadata": {},
     "output_type": "display_data"
    }
   ],
   "source": [
    "import matplotlib.pyplot as plt\n",
    "\n",
    "# Supón que quieres graficar la columna 'columna_interes'\n",
    "values = jan_data['duration_min'].to_numpy()\n",
    "\n",
    "plt.hist(values, bins=30)\n",
    "plt.xlabel('duration_min')\n",
    "plt.ylabel('Frecuencia')\n",
    "plt.title('Histograma de duration_min')\n",
    "plt.show()"
   ]
  },
  {
   "cell_type": "code",
   "execution_count": 42,
   "id": "1c36e0ebfb0879ec",
   "metadata": {},
   "outputs": [],
   "source": [
    "# data labeling\n",
    "target = \"duration_min\"\n",
    "num_features = [\"passenger_count\", \"trip_distance\", \"fare_amount\", \"total_amount\"]\n",
    "cat_features = [\"PULocationID\", \"DOLocationID\"]"
   ]
  },
  {
   "cell_type": "code",
   "execution_count": null,
   "id": "4b2d012fb9b1894a",
   "metadata": {},
   "outputs": [],
   "source": [
    "train_data = jan_data[:30000]\n",
    "val_data = jan_data[30000:]"
   ]
  },
  {
   "cell_type": "code",
   "execution_count": 26,
   "id": "acbd0bcaea363591",
   "metadata": {},
   "outputs": [],
   "source": [
    "model = LinearRegression()"
   ]
  },
  {
   "cell_type": "code",
   "execution_count": 27,
   "id": "2071678344a3f82e",
   "metadata": {},
   "outputs": [
    {
     "data": {
      "text/html": [
       "<style>#sk-container-id-1 {\n",
       "  /* Definition of color scheme common for light and dark mode */\n",
       "  --sklearn-color-text: black;\n",
       "  --sklearn-color-line: gray;\n",
       "  /* Definition of color scheme for unfitted estimators */\n",
       "  --sklearn-color-unfitted-level-0: #fff5e6;\n",
       "  --sklearn-color-unfitted-level-1: #f6e4d2;\n",
       "  --sklearn-color-unfitted-level-2: #ffe0b3;\n",
       "  --sklearn-color-unfitted-level-3: chocolate;\n",
       "  /* Definition of color scheme for fitted estimators */\n",
       "  --sklearn-color-fitted-level-0: #f0f8ff;\n",
       "  --sklearn-color-fitted-level-1: #d4ebff;\n",
       "  --sklearn-color-fitted-level-2: #b3dbfd;\n",
       "  --sklearn-color-fitted-level-3: cornflowerblue;\n",
       "\n",
       "  /* Specific color for light theme */\n",
       "  --sklearn-color-text-on-default-background: var(--sg-text-color, var(--theme-code-foreground, var(--jp-content-font-color1, black)));\n",
       "  --sklearn-color-background: var(--sg-background-color, var(--theme-background, var(--jp-layout-color0, white)));\n",
       "  --sklearn-color-border-box: var(--sg-text-color, var(--theme-code-foreground, var(--jp-content-font-color1, black)));\n",
       "  --sklearn-color-icon: #696969;\n",
       "\n",
       "  @media (prefers-color-scheme: dark) {\n",
       "    /* Redefinition of color scheme for dark theme */\n",
       "    --sklearn-color-text-on-default-background: var(--sg-text-color, var(--theme-code-foreground, var(--jp-content-font-color1, white)));\n",
       "    --sklearn-color-background: var(--sg-background-color, var(--theme-background, var(--jp-layout-color0, #111)));\n",
       "    --sklearn-color-border-box: var(--sg-text-color, var(--theme-code-foreground, var(--jp-content-font-color1, white)));\n",
       "    --sklearn-color-icon: #878787;\n",
       "  }\n",
       "}\n",
       "\n",
       "#sk-container-id-1 {\n",
       "  color: var(--sklearn-color-text);\n",
       "}\n",
       "\n",
       "#sk-container-id-1 pre {\n",
       "  padding: 0;\n",
       "}\n",
       "\n",
       "#sk-container-id-1 input.sk-hidden--visually {\n",
       "  border: 0;\n",
       "  clip: rect(1px 1px 1px 1px);\n",
       "  clip: rect(1px, 1px, 1px, 1px);\n",
       "  height: 1px;\n",
       "  margin: -1px;\n",
       "  overflow: hidden;\n",
       "  padding: 0;\n",
       "  position: absolute;\n",
       "  width: 1px;\n",
       "}\n",
       "\n",
       "#sk-container-id-1 div.sk-dashed-wrapped {\n",
       "  border: 1px dashed var(--sklearn-color-line);\n",
       "  margin: 0 0.4em 0.5em 0.4em;\n",
       "  box-sizing: border-box;\n",
       "  padding-bottom: 0.4em;\n",
       "  background-color: var(--sklearn-color-background);\n",
       "}\n",
       "\n",
       "#sk-container-id-1 div.sk-container {\n",
       "  /* jupyter's `normalize.less` sets `[hidden] { display: none; }`\n",
       "     but bootstrap.min.css set `[hidden] { display: none !important; }`\n",
       "     so we also need the `!important` here to be able to override the\n",
       "     default hidden behavior on the sphinx rendered scikit-learn.org.\n",
       "     See: https://github.com/scikit-learn/scikit-learn/issues/21755 */\n",
       "  display: inline-block !important;\n",
       "  position: relative;\n",
       "}\n",
       "\n",
       "#sk-container-id-1 div.sk-text-repr-fallback {\n",
       "  display: none;\n",
       "}\n",
       "\n",
       "div.sk-parallel-item,\n",
       "div.sk-serial,\n",
       "div.sk-item {\n",
       "  /* draw centered vertical line to link estimators */\n",
       "  background-image: linear-gradient(var(--sklearn-color-text-on-default-background), var(--sklearn-color-text-on-default-background));\n",
       "  background-size: 2px 100%;\n",
       "  background-repeat: no-repeat;\n",
       "  background-position: center center;\n",
       "}\n",
       "\n",
       "/* Parallel-specific style estimator block */\n",
       "\n",
       "#sk-container-id-1 div.sk-parallel-item::after {\n",
       "  content: \"\";\n",
       "  width: 100%;\n",
       "  border-bottom: 2px solid var(--sklearn-color-text-on-default-background);\n",
       "  flex-grow: 1;\n",
       "}\n",
       "\n",
       "#sk-container-id-1 div.sk-parallel {\n",
       "  display: flex;\n",
       "  align-items: stretch;\n",
       "  justify-content: center;\n",
       "  background-color: var(--sklearn-color-background);\n",
       "  position: relative;\n",
       "}\n",
       "\n",
       "#sk-container-id-1 div.sk-parallel-item {\n",
       "  display: flex;\n",
       "  flex-direction: column;\n",
       "}\n",
       "\n",
       "#sk-container-id-1 div.sk-parallel-item:first-child::after {\n",
       "  align-self: flex-end;\n",
       "  width: 50%;\n",
       "}\n",
       "\n",
       "#sk-container-id-1 div.sk-parallel-item:last-child::after {\n",
       "  align-self: flex-start;\n",
       "  width: 50%;\n",
       "}\n",
       "\n",
       "#sk-container-id-1 div.sk-parallel-item:only-child::after {\n",
       "  width: 0;\n",
       "}\n",
       "\n",
       "/* Serial-specific style estimator block */\n",
       "\n",
       "#sk-container-id-1 div.sk-serial {\n",
       "  display: flex;\n",
       "  flex-direction: column;\n",
       "  align-items: center;\n",
       "  background-color: var(--sklearn-color-background);\n",
       "  padding-right: 1em;\n",
       "  padding-left: 1em;\n",
       "}\n",
       "\n",
       "\n",
       "/* Toggleable style: style used for estimator/Pipeline/ColumnTransformer box that is\n",
       "clickable and can be expanded/collapsed.\n",
       "- Pipeline and ColumnTransformer use this feature and define the default style\n",
       "- Estimators will overwrite some part of the style using the `sk-estimator` class\n",
       "*/\n",
       "\n",
       "/* Pipeline and ColumnTransformer style (default) */\n",
       "\n",
       "#sk-container-id-1 div.sk-toggleable {\n",
       "  /* Default theme specific background. It is overwritten whether we have a\n",
       "  specific estimator or a Pipeline/ColumnTransformer */\n",
       "  background-color: var(--sklearn-color-background);\n",
       "}\n",
       "\n",
       "/* Toggleable label */\n",
       "#sk-container-id-1 label.sk-toggleable__label {\n",
       "  cursor: pointer;\n",
       "  display: block;\n",
       "  width: 100%;\n",
       "  margin-bottom: 0;\n",
       "  padding: 0.5em;\n",
       "  box-sizing: border-box;\n",
       "  text-align: center;\n",
       "}\n",
       "\n",
       "#sk-container-id-1 label.sk-toggleable__label-arrow:before {\n",
       "  /* Arrow on the left of the label */\n",
       "  content: \"▸\";\n",
       "  float: left;\n",
       "  margin-right: 0.25em;\n",
       "  color: var(--sklearn-color-icon);\n",
       "}\n",
       "\n",
       "#sk-container-id-1 label.sk-toggleable__label-arrow:hover:before {\n",
       "  color: var(--sklearn-color-text);\n",
       "}\n",
       "\n",
       "/* Toggleable content - dropdown */\n",
       "\n",
       "#sk-container-id-1 div.sk-toggleable__content {\n",
       "  max-height: 0;\n",
       "  max-width: 0;\n",
       "  overflow: hidden;\n",
       "  text-align: left;\n",
       "  /* unfitted */\n",
       "  background-color: var(--sklearn-color-unfitted-level-0);\n",
       "}\n",
       "\n",
       "#sk-container-id-1 div.sk-toggleable__content.fitted {\n",
       "  /* fitted */\n",
       "  background-color: var(--sklearn-color-fitted-level-0);\n",
       "}\n",
       "\n",
       "#sk-container-id-1 div.sk-toggleable__content pre {\n",
       "  margin: 0.2em;\n",
       "  border-radius: 0.25em;\n",
       "  color: var(--sklearn-color-text);\n",
       "  /* unfitted */\n",
       "  background-color: var(--sklearn-color-unfitted-level-0);\n",
       "}\n",
       "\n",
       "#sk-container-id-1 div.sk-toggleable__content.fitted pre {\n",
       "  /* unfitted */\n",
       "  background-color: var(--sklearn-color-fitted-level-0);\n",
       "}\n",
       "\n",
       "#sk-container-id-1 input.sk-toggleable__control:checked~div.sk-toggleable__content {\n",
       "  /* Expand drop-down */\n",
       "  max-height: 200px;\n",
       "  max-width: 100%;\n",
       "  overflow: auto;\n",
       "}\n",
       "\n",
       "#sk-container-id-1 input.sk-toggleable__control:checked~label.sk-toggleable__label-arrow:before {\n",
       "  content: \"▾\";\n",
       "}\n",
       "\n",
       "/* Pipeline/ColumnTransformer-specific style */\n",
       "\n",
       "#sk-container-id-1 div.sk-label input.sk-toggleable__control:checked~label.sk-toggleable__label {\n",
       "  color: var(--sklearn-color-text);\n",
       "  background-color: var(--sklearn-color-unfitted-level-2);\n",
       "}\n",
       "\n",
       "#sk-container-id-1 div.sk-label.fitted input.sk-toggleable__control:checked~label.sk-toggleable__label {\n",
       "  background-color: var(--sklearn-color-fitted-level-2);\n",
       "}\n",
       "\n",
       "/* Estimator-specific style */\n",
       "\n",
       "/* Colorize estimator box */\n",
       "#sk-container-id-1 div.sk-estimator input.sk-toggleable__control:checked~label.sk-toggleable__label {\n",
       "  /* unfitted */\n",
       "  background-color: var(--sklearn-color-unfitted-level-2);\n",
       "}\n",
       "\n",
       "#sk-container-id-1 div.sk-estimator.fitted input.sk-toggleable__control:checked~label.sk-toggleable__label {\n",
       "  /* fitted */\n",
       "  background-color: var(--sklearn-color-fitted-level-2);\n",
       "}\n",
       "\n",
       "#sk-container-id-1 div.sk-label label.sk-toggleable__label,\n",
       "#sk-container-id-1 div.sk-label label {\n",
       "  /* The background is the default theme color */\n",
       "  color: var(--sklearn-color-text-on-default-background);\n",
       "}\n",
       "\n",
       "/* On hover, darken the color of the background */\n",
       "#sk-container-id-1 div.sk-label:hover label.sk-toggleable__label {\n",
       "  color: var(--sklearn-color-text);\n",
       "  background-color: var(--sklearn-color-unfitted-level-2);\n",
       "}\n",
       "\n",
       "/* Label box, darken color on hover, fitted */\n",
       "#sk-container-id-1 div.sk-label.fitted:hover label.sk-toggleable__label.fitted {\n",
       "  color: var(--sklearn-color-text);\n",
       "  background-color: var(--sklearn-color-fitted-level-2);\n",
       "}\n",
       "\n",
       "/* Estimator label */\n",
       "\n",
       "#sk-container-id-1 div.sk-label label {\n",
       "  font-family: monospace;\n",
       "  font-weight: bold;\n",
       "  display: inline-block;\n",
       "  line-height: 1.2em;\n",
       "}\n",
       "\n",
       "#sk-container-id-1 div.sk-label-container {\n",
       "  text-align: center;\n",
       "}\n",
       "\n",
       "/* Estimator-specific */\n",
       "#sk-container-id-1 div.sk-estimator {\n",
       "  font-family: monospace;\n",
       "  border: 1px dotted var(--sklearn-color-border-box);\n",
       "  border-radius: 0.25em;\n",
       "  box-sizing: border-box;\n",
       "  margin-bottom: 0.5em;\n",
       "  /* unfitted */\n",
       "  background-color: var(--sklearn-color-unfitted-level-0);\n",
       "}\n",
       "\n",
       "#sk-container-id-1 div.sk-estimator.fitted {\n",
       "  /* fitted */\n",
       "  background-color: var(--sklearn-color-fitted-level-0);\n",
       "}\n",
       "\n",
       "/* on hover */\n",
       "#sk-container-id-1 div.sk-estimator:hover {\n",
       "  /* unfitted */\n",
       "  background-color: var(--sklearn-color-unfitted-level-2);\n",
       "}\n",
       "\n",
       "#sk-container-id-1 div.sk-estimator.fitted:hover {\n",
       "  /* fitted */\n",
       "  background-color: var(--sklearn-color-fitted-level-2);\n",
       "}\n",
       "\n",
       "/* Specification for estimator info (e.g. \"i\" and \"?\") */\n",
       "\n",
       "/* Common style for \"i\" and \"?\" */\n",
       "\n",
       ".sk-estimator-doc-link,\n",
       "a:link.sk-estimator-doc-link,\n",
       "a:visited.sk-estimator-doc-link {\n",
       "  float: right;\n",
       "  font-size: smaller;\n",
       "  line-height: 1em;\n",
       "  font-family: monospace;\n",
       "  background-color: var(--sklearn-color-background);\n",
       "  border-radius: 1em;\n",
       "  height: 1em;\n",
       "  width: 1em;\n",
       "  text-decoration: none !important;\n",
       "  margin-left: 1ex;\n",
       "  /* unfitted */\n",
       "  border: var(--sklearn-color-unfitted-level-1) 1pt solid;\n",
       "  color: var(--sklearn-color-unfitted-level-1);\n",
       "}\n",
       "\n",
       ".sk-estimator-doc-link.fitted,\n",
       "a:link.sk-estimator-doc-link.fitted,\n",
       "a:visited.sk-estimator-doc-link.fitted {\n",
       "  /* fitted */\n",
       "  border: var(--sklearn-color-fitted-level-1) 1pt solid;\n",
       "  color: var(--sklearn-color-fitted-level-1);\n",
       "}\n",
       "\n",
       "/* On hover */\n",
       "div.sk-estimator:hover .sk-estimator-doc-link:hover,\n",
       ".sk-estimator-doc-link:hover,\n",
       "div.sk-label-container:hover .sk-estimator-doc-link:hover,\n",
       ".sk-estimator-doc-link:hover {\n",
       "  /* unfitted */\n",
       "  background-color: var(--sklearn-color-unfitted-level-3);\n",
       "  color: var(--sklearn-color-background);\n",
       "  text-decoration: none;\n",
       "}\n",
       "\n",
       "div.sk-estimator.fitted:hover .sk-estimator-doc-link.fitted:hover,\n",
       ".sk-estimator-doc-link.fitted:hover,\n",
       "div.sk-label-container:hover .sk-estimator-doc-link.fitted:hover,\n",
       ".sk-estimator-doc-link.fitted:hover {\n",
       "  /* fitted */\n",
       "  background-color: var(--sklearn-color-fitted-level-3);\n",
       "  color: var(--sklearn-color-background);\n",
       "  text-decoration: none;\n",
       "}\n",
       "\n",
       "/* Span, style for the box shown on hovering the info icon */\n",
       ".sk-estimator-doc-link span {\n",
       "  display: none;\n",
       "  z-index: 9999;\n",
       "  position: relative;\n",
       "  font-weight: normal;\n",
       "  right: .2ex;\n",
       "  padding: .5ex;\n",
       "  margin: .5ex;\n",
       "  width: min-content;\n",
       "  min-width: 20ex;\n",
       "  max-width: 50ex;\n",
       "  color: var(--sklearn-color-text);\n",
       "  box-shadow: 2pt 2pt 4pt #999;\n",
       "  /* unfitted */\n",
       "  background: var(--sklearn-color-unfitted-level-0);\n",
       "  border: .5pt solid var(--sklearn-color-unfitted-level-3);\n",
       "}\n",
       "\n",
       ".sk-estimator-doc-link.fitted span {\n",
       "  /* fitted */\n",
       "  background: var(--sklearn-color-fitted-level-0);\n",
       "  border: var(--sklearn-color-fitted-level-3);\n",
       "}\n",
       "\n",
       ".sk-estimator-doc-link:hover span {\n",
       "  display: block;\n",
       "}\n",
       "\n",
       "/* \"?\"-specific style due to the `<a>` HTML tag */\n",
       "\n",
       "#sk-container-id-1 a.estimator_doc_link {\n",
       "  float: right;\n",
       "  font-size: 1rem;\n",
       "  line-height: 1em;\n",
       "  font-family: monospace;\n",
       "  background-color: var(--sklearn-color-background);\n",
       "  border-radius: 1rem;\n",
       "  height: 1rem;\n",
       "  width: 1rem;\n",
       "  text-decoration: none;\n",
       "  /* unfitted */\n",
       "  color: var(--sklearn-color-unfitted-level-1);\n",
       "  border: var(--sklearn-color-unfitted-level-1) 1pt solid;\n",
       "}\n",
       "\n",
       "#sk-container-id-1 a.estimator_doc_link.fitted {\n",
       "  /* fitted */\n",
       "  border: var(--sklearn-color-fitted-level-1) 1pt solid;\n",
       "  color: var(--sklearn-color-fitted-level-1);\n",
       "}\n",
       "\n",
       "/* On hover */\n",
       "#sk-container-id-1 a.estimator_doc_link:hover {\n",
       "  /* unfitted */\n",
       "  background-color: var(--sklearn-color-unfitted-level-3);\n",
       "  color: var(--sklearn-color-background);\n",
       "  text-decoration: none;\n",
       "}\n",
       "\n",
       "#sk-container-id-1 a.estimator_doc_link.fitted:hover {\n",
       "  /* fitted */\n",
       "  background-color: var(--sklearn-color-fitted-level-3);\n",
       "}\n",
       "</style><div id=\"sk-container-id-1\" class=\"sk-top-container\"><div class=\"sk-text-repr-fallback\"><pre>LinearRegression()</pre><b>In a Jupyter environment, please rerun this cell to show the HTML representation or trust the notebook. <br />On GitHub, the HTML representation is unable to render, please try loading this page with nbviewer.org.</b></div><div class=\"sk-container\" hidden><div class=\"sk-item\"><div class=\"sk-estimator fitted sk-toggleable\"><input class=\"sk-toggleable__control sk-hidden--visually\" id=\"sk-estimator-id-1\" type=\"checkbox\" checked><label for=\"sk-estimator-id-1\" class=\"sk-toggleable__label fitted sk-toggleable__label-arrow fitted\">&nbsp;&nbsp;LinearRegression<a class=\"sk-estimator-doc-link fitted\" rel=\"noreferrer\" target=\"_blank\" href=\"https://scikit-learn.org/1.5/modules/generated/sklearn.linear_model.LinearRegression.html\">?<span>Documentation for LinearRegression</span></a><span class=\"sk-estimator-doc-link fitted\">i<span>Fitted</span></span></label><div class=\"sk-toggleable__content fitted\"><pre>LinearRegression()</pre></div> </div></div></div></div>"
      ],
      "text/plain": [
       "LinearRegression()"
      ]
     },
     "execution_count": 27,
     "metadata": {},
     "output_type": "execute_result"
    }
   ],
   "source": [
    "model.fit(train_data[num_features + cat_features], train_data[target])"
   ]
  },
  {
   "cell_type": "code",
   "execution_count": 29,
   "id": "f2b35c8b807bbd0a",
   "metadata": {},
   "outputs": [],
   "source": [
    "train_preds = model.predict(train_data[num_features + cat_features])\n",
    "train_data = train_data.with_columns(\n",
    "    pl.Series(name='prediction', values=train_preds, dtype=pl.Float64)\n",
    ")"
   ]
  },
  {
   "cell_type": "code",
   "execution_count": 30,
   "id": "775faa558e6ed9f5",
   "metadata": {},
   "outputs": [],
   "source": [
    "val_preds = model.predict(val_data[num_features + cat_features])\n",
    "val_data = val_data.with_columns(\n",
    "    pl.Series(name='prediction', values=val_preds, dtype=pl.Float64)\n",
    ")"
   ]
  },
  {
   "cell_type": "code",
   "execution_count": 32,
   "id": "e675db84c123c9db",
   "metadata": {},
   "outputs": [
    {
     "name": "stdout",
     "output_type": "stream",
     "text": [
      "3.804665373785062\n",
      "4.142064073688447\n"
     ]
    }
   ],
   "source": [
    "# pandas way\n",
    "# print(mean_absolute_error(train_data.duration_min, train_data.prediction))\n",
    "# print(mean_absolute_error(val_data.duration_min, val_data.prediction))\n",
    "# polars way\n",
    "print(mean_absolute_error(train_data['duration_min'].to_numpy(), train_data['prediction'].to_numpy()))\n",
    "print(mean_absolute_error(val_data['duration_min'].to_numpy(), val_data['prediction'].to_numpy()))"
   ]
  },
  {
   "cell_type": "markdown",
   "id": "594f99e8-3667-4108-adf3-d9509150924d",
   "metadata": {},
   "source": [
    "# Dump model and reference data"
   ]
  },
  {
   "cell_type": "code",
   "execution_count": 33,
   "id": "a41101a02592a969",
   "metadata": {},
   "outputs": [],
   "source": [
    "with open('models/lin_reg.bin', 'wb') as f_out:\n",
    "    dump(model, f_out)"
   ]
  },
  {
   "cell_type": "code",
   "execution_count": 35,
   "id": "6ba1f803d2d9ddf7",
   "metadata": {},
   "outputs": [],
   "source": [
    "val_data.write_parquet('data/reference.parquet')"
   ]
  },
  {
   "cell_type": "markdown",
   "id": "c857c5683c59b65",
   "metadata": {},
   "source": [
    "# Evidently Report"
   ]
  },
  {
   "cell_type": "code",
   "execution_count": 46,
   "id": "cf3be3c2",
   "metadata": {},
   "outputs": [
    {
     "ename": "ImportError",
     "evalue": "cannot import name 'Report' from 'evidently' (/workspaces/dandori-project/.venv/lib/python3.12/site-packages/evidently/__init__.py)",
     "output_type": "error",
     "traceback": [
      "\u001b[31m---------------------------------------------------------------------------\u001b[39m",
      "\u001b[31mImportError\u001b[39m                               Traceback (most recent call last)",
      "\u001b[36mCell\u001b[39m\u001b[36m \u001b[39m\u001b[32mIn[46]\u001b[39m\u001b[32m, line 9\u001b[39m\n\u001b[32m      1\u001b[39m \u001b[38;5;66;03m# old evidently code\u001b[39;00m\n\u001b[32m      2\u001b[39m \u001b[38;5;66;03m# from evidently import DataDefinition\u001b[39;00m\n\u001b[32m      3\u001b[39m \u001b[38;5;66;03m# from evidently import Dataset\u001b[39;00m\n\u001b[32m   (...)\u001b[39m\u001b[32m      6\u001b[39m \n\u001b[32m      7\u001b[39m \u001b[38;5;66;03m# new evidently code\u001b[39;00m\n\u001b[32m      8\u001b[39m \u001b[38;5;28;01mfrom\u001b[39;00m\u001b[38;5;250m \u001b[39m\u001b[34;01mevidently\u001b[39;00m\u001b[38;5;250m \u001b[39m\u001b[38;5;28;01mimport\u001b[39;00m ColumnMapping\n\u001b[32m----> \u001b[39m\u001b[32m9\u001b[39m \u001b[38;5;28;01mfrom\u001b[39;00m\u001b[38;5;250m \u001b[39m\u001b[34;01mevidently\u001b[39;00m\u001b[38;5;250m \u001b[39m\u001b[38;5;28;01mimport\u001b[39;00m Report\n",
      "\u001b[31mImportError\u001b[39m: cannot import name 'Report' from 'evidently' (/workspaces/dandori-project/.venv/lib/python3.12/site-packages/evidently/__init__.py)"
     ]
    }
   ],
   "source": [
    "# old evidently code\n",
    "# from evidently import DataDefinition\n",
    "# from evidently import Dataset\n",
    "# from evidently import Report\n",
    "# from evidently.metrics import ValueDrift, DriftedColumnsCount, MissingValueCount\n",
    "\n",
    "# new evidently code\n",
    "from evidently import ColumnMapping\n",
    "from evidently import Report\n"
   ]
  },
  {
   "cell_type": "code",
   "execution_count": null,
   "id": "1e10db1a0250c1ab",
   "metadata": {},
   "outputs": [],
   "source": [
    "data_definition = DataDefinition(numerical_columns=num_features + ['prediction'], categorical_columns=cat_features)\n",
    "train_dataset = Dataset.from_pandas(\n",
    "    train_data,\n",
    "    data_definition\n",
    ")\n",
    "\n",
    "val_dataset = Dataset.from_pandas(\n",
    "    val_data,\n",
    "    data_definition\n",
    ")"
   ]
  },
  {
   "cell_type": "code",
   "execution_count": null,
   "id": "543ca2a7e4f00a45",
   "metadata": {},
   "outputs": [],
   "source": [
    "report = Report(metrics=[\n",
    "    ValueDrift(column='prediction'),\n",
    "    DriftedColumnsCount(),\n",
    "    MissingValueCount(column='prediction'),\n",
    "]\n",
    ")"
   ]
  },
  {
   "cell_type": "code",
   "execution_count": null,
   "id": "676afb69b6172332",
   "metadata": {},
   "outputs": [],
   "source": [
    "snapshot = report.run(reference_data=train_dataset, current_data=val_dataset)"
   ]
  },
  {
   "cell_type": "code",
   "execution_count": null,
   "id": "69ad038a3a95098a",
   "metadata": {},
   "outputs": [],
   "source": [
    "snapshot"
   ]
  },
  {
   "cell_type": "code",
   "execution_count": null,
   "id": "a9e2aa5ca9b496d4",
   "metadata": {},
   "outputs": [],
   "source": [
    "result = snapshot.dict()"
   ]
  },
  {
   "cell_type": "code",
   "execution_count": null,
   "id": "6e5035dd2c278a9a",
   "metadata": {},
   "outputs": [],
   "source": [
    "result"
   ]
  },
  {
   "cell_type": "code",
   "execution_count": null,
   "id": "e899f3602bfff467",
   "metadata": {},
   "outputs": [],
   "source": [
    "#prediction drift\n",
    "result['metrics'][0]['value']"
   ]
  },
  {
   "cell_type": "code",
   "execution_count": null,
   "id": "1259822acaefed1e",
   "metadata": {},
   "outputs": [],
   "source": [
    "#number of drifted columns\n",
    "result['metrics'][1]['value']['count']"
   ]
  },
  {
   "cell_type": "code",
   "execution_count": null,
   "id": "a3addf64d2dc04ae",
   "metadata": {},
   "outputs": [],
   "source": [
    "#share of missing values\n",
    "result['metrics'][2]['value']['count']"
   ]
  },
  {
   "cell_type": "markdown",
   "id": "b2f9038a218615f1",
   "metadata": {},
   "source": [
    "# Evidently Dashboard"
   ]
  },
  {
   "cell_type": "code",
   "execution_count": null,
   "id": "fb2023542b25fd91",
   "metadata": {},
   "outputs": [],
   "source": [
    "from evidently.presets import DataDriftPreset, DataSummaryPreset\n",
    "\n",
    "from evidently.ui.workspace import Workspace\n",
    "from evidently.sdk.panels import *\n",
    "from evidently.legacy.renderers.html_widgets import WidgetSize"
   ]
  },
  {
   "cell_type": "code",
   "execution_count": null,
   "id": "ad1e20608545b2ec",
   "metadata": {},
   "outputs": [],
   "source": [
    "ws = Workspace(\"workspace\")"
   ]
  },
  {
   "cell_type": "code",
   "execution_count": null,
   "id": "e953dfbe75da3c06",
   "metadata": {},
   "outputs": [],
   "source": [
    "project = ws.create_project(\"NYC Taxi Data Quality Project\")\n",
    "project.description = \"My project description\"\n",
    "project.save()"
   ]
  },
  {
   "cell_type": "code",
   "execution_count": null,
   "id": "b50a04f69b18b46e",
   "metadata": {},
   "outputs": [],
   "source": [
    "regular_report = Report(\n",
    "    metrics=[\n",
    "        DataSummaryPreset()\n",
    "    ],\n",
    ")\n",
    "\n",
    "data = Dataset.from_pandas(\n",
    "    val_data.loc[val_data.lpep_pickup_datetime.between('2022-01-28', '2022-01-29', inclusive=\"left\")],\n",
    "    data_definition=data_definition,\n",
    ")\n",
    "\n",
    "regular_snapshot = regular_report.run(current_data=data, timestamp=datetime.datetime(2022,1,28))\n",
    "\n",
    "regular_snapshot"
   ]
  },
  {
   "cell_type": "code",
   "execution_count": null,
   "id": "11d1f0f5a3a478a1",
   "metadata": {},
   "outputs": [],
   "source": [
    "ws.add_run(project.id, regular_snapshot)"
   ]
  },
  {
   "cell_type": "markdown",
   "id": "15c502ed-a2d6-4de9-866a-5eca46c354ce",
   "metadata": {},
   "source": [
    "note: To view a report please run \"evidently ui\" command in a separate tab in your terminal."
   ]
  },
  {
   "cell_type": "code",
   "execution_count": null,
   "id": "c9ffc785f07a3b43",
   "metadata": {},
   "outputs": [],
   "source": [
    "#configure the dashboard\n",
    "project.dashboard.add_panel(\n",
    "    text_panel(title=\"NYC taxi data dashboard\")\n",
    ")\n",
    "\n",
    "project.dashboard.add_panel(\n",
    "    bar_plot_panel(\n",
    "        title=\"Inference Count\",\n",
    "        values=[\n",
    "            PanelMetric(\n",
    "                metric=\"RowCount\",\n",
    "                legend=\"count\",\n",
    "            ),\n",
    "        ],\n",
    "        size=\"half\",\n",
    "    ),\n",
    ")\n",
    "\n",
    "project.dashboard.add_panel(\n",
    "    line_plot_panel(\n",
    "        title=\"Number of Missing Values\",\n",
    "        values=[\n",
    "            PanelMetric(\n",
    "                metric=\"DatasetMissingValueCount\",\n",
    "                legend=\"count\"\n",
    "            ),\n",
    "        ],\n",
    "        size=\"half\",\n",
    "    ),\n",
    ")\n",
    "\n",
    "project.save()"
   ]
  },
  {
   "cell_type": "markdown",
   "id": "e57e1bcc-4561-4e23-829b-3a635c989b2b",
   "metadata": {},
   "source": [
    "To view a dashboard please run \"evidently ui\" command in a separate tab in your terminal."
   ]
  },
  {
   "cell_type": "code",
   "execution_count": null,
   "id": "ef86fd9791faf042",
   "metadata": {},
   "outputs": [],
   "source": [
    "regular_report = Report(\n",
    "    metrics=[\n",
    "        DataSummaryPreset()\n",
    "    ],\n",
    ")\n",
    "\n",
    "data = Dataset.from_pandas(\n",
    "    val_data.loc[val_data.lpep_pickup_datetime.between('2022-01-29', '2022-01-30', inclusive=\"left\")],\n",
    "    data_definition=data_definition,\n",
    ")\n",
    "\n",
    "regular_run = regular_report.run(current_data=data, timestamp=datetime.datetime(2022,1,29))\n",
    "\n",
    "regular_run"
   ]
  },
  {
   "cell_type": "code",
   "execution_count": null,
   "id": "42a513dc53964471",
   "metadata": {},
   "outputs": [],
   "source": [
    "ws.add_run(project.id, regular_run)"
   ]
  },
  {
   "cell_type": "code",
   "execution_count": null,
   "id": "7da8c7d2911c5f1e",
   "metadata": {},
   "outputs": [],
   "source": []
  }
 ],
 "metadata": {
  "kernelspec": {
   "display_name": "Python 3",
   "language": "python",
   "name": "python3"
  },
  "language_info": {
   "codemirror_mode": {
    "name": "ipython",
    "version": 3
   },
   "file_extension": ".py",
   "mimetype": "text/x-python",
   "name": "python",
   "nbconvert_exporter": "python",
   "pygments_lexer": "ipython3",
   "version": "3.12.1"
  }
 },
 "nbformat": 4,
 "nbformat_minor": 5
}
