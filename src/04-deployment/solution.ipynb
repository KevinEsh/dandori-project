{
 "cells": [
  {
   "cell_type": "code",
   "execution_count": 1,
   "id": "960281b9-34a5-40bd-ad56-f6e83aed2882",
   "metadata": {},
   "outputs": [],
   "source": [
    "import pickle\n",
    "import polars as pl\n",
    "import sklearn"
   ]
  },
  {
   "cell_type": "code",
   "execution_count": 2,
   "id": "83d7406e-3be7-4e6b-9c68-da7f67b82647",
   "metadata": {},
   "outputs": [
    {
     "data": {
      "text/plain": [
       "'1.5.0'"
      ]
     },
     "execution_count": 2,
     "metadata": {},
     "output_type": "execute_result"
    }
   ],
   "source": [
    "sklearn.__version__"
   ]
  },
  {
   "cell_type": "code",
   "execution_count": null,
   "id": "ef5cbf9e-f962-4d60-8daf-e6f4a791e3bc",
   "metadata": {},
   "outputs": [],
   "source": [
    "year = 2023\n",
    "month = 3\n",
    "\n",
    "\n",
    "input_file = f'https://d37ci6vzurychx.cloudfront.net/trip-data/yellow_tripdata_{year:04d}-{month:02d}.parquet'\n",
    "output_file = f'output/yellow_tripdata_{year:04d}-{month:02d}.parquet'"
   ]
  },
  {
   "cell_type": "code",
   "execution_count": 4,
   "id": "007cfab3-f7a1-4503-88a4-0006162b8d26",
   "metadata": {},
   "outputs": [
    {
     "name": "stdout",
     "output_type": "stream",
     "text": [
      "mkdir: cannot create directory ‘output’: File exists\n"
     ]
    }
   ],
   "source": [
    "!mkdir output"
   ]
  },
  {
   "cell_type": "code",
   "execution_count": 5,
   "id": "7836ccfd",
   "metadata": {},
   "outputs": [],
   "source": [
    "with open('model.bin', 'rb') as f_in:\n",
    "    dv, lr = pickle.load(f_in)"
   ]
  },
  {
   "cell_type": "code",
   "execution_count": 6,
   "id": "41c08294",
   "metadata": {},
   "outputs": [],
   "source": [
    "def read_data(filename):\n",
    "    df = pl.scan_parquet(filename)\n",
    "\n",
    "    month_of_year = f\"{year:04d}/{month:02d}\"\n",
    "    \n",
    "    df = df.with_row_index(name=\"index\")\n",
    "    df = df.select(\n",
    "        duration=(\n",
    "            (\n",
    "                pl.col(\"tpep_dropoff_datetime\") - pl.col(\"tpep_pickup_datetime\")\n",
    "            ).dt.total_seconds()\n",
    "            / 60\n",
    "        ),\n",
    "        ride_id=pl.concat_str(\n",
    "            pl.lit(month_of_year),\n",
    "            pl.col(\"index\").cast(str),\n",
    "            separator=\"_\",),\n",
    "        PULocationID=pl.col(\"PULocationID\").cast(pl.String),\n",
    "        DOLocationID=pl.col(\"DOLocationID\").cast(pl.String),\n",
    "    )\n",
    "\n",
    "    df = df.filter(pl.col(\"duration\").is_between(1, 60))\n",
    "\n",
    "    # df = df.with_columns(\n",
    "    #     pu_do=pl.concat_str(\n",
    "    #         [  # pl.concat_str will cast to str automatically\n",
    "    #             pl.col(\"PULocationID\"),  # .cast(str),\n",
    "    #             pl.col(\"DOLocationID\"),  # cast(str),\n",
    "    #         ],\n",
    "    #         separator=\"_\",\n",
    "    #     )\n",
    "    # )\n",
    "\n",
    "    categorical = (\"PULocationID\", \"DOLocationID\")\n",
    "    target = (\"ride_id\", \"duration\")\n",
    "\n",
    "    df_input = df.select(\n",
    "        pl.col(categorical),\n",
    "        # pl.col(numerical),\n",
    "    ).collect()  # to_dicts()\n",
    "\n",
    "    df_target = df.select(pl.col(target)).collect()\n",
    "\n",
    "    return df_input, df_target\n",
    "\n",
    "    # df[categorical] = df[categorical].fillna(-1).astype('int').astype('str')\n",
    "    \n",
    "    # return df"
   ]
  },
  {
   "cell_type": "code",
   "execution_count": 7,
   "id": "3a1d318c-c4b7-4df8-be68-1ec42d312f22",
   "metadata": {},
   "outputs": [
    {
     "data": {
      "text/plain": [
       "(shape: (3_316_216, 2)\n",
       " ┌──────────────┬──────────────┐\n",
       " │ PULocationID ┆ DOLocationID │\n",
       " │ ---          ┆ ---          │\n",
       " │ str          ┆ str          │\n",
       " ╞══════════════╪══════════════╡\n",
       " │ 238          ┆ 42           │\n",
       " │ 138          ┆ 231          │\n",
       " │ 140          ┆ 186          │\n",
       " │ 140          ┆ 43           │\n",
       " │ 79           ┆ 137          │\n",
       " │ …            ┆ …            │\n",
       " │ 163          ┆ 75           │\n",
       " │ 125          ┆ 198          │\n",
       " │ 50           ┆ 224          │\n",
       " │ 113          ┆ 158          │\n",
       " │ 41           ┆ 166          │\n",
       " └──────────────┴──────────────┘,\n",
       " shape: (3_316_216, 2)\n",
       " ┌─────────────────┬───────────┐\n",
       " │ ride_id         ┆ duration  │\n",
       " │ ---             ┆ ---       │\n",
       " │ str             ┆ f64       │\n",
       " ╞═════════════════╪═══════════╡\n",
       " │ 2023/03_0       ┆ 10.0      │\n",
       " │ 2023/03_1       ┆ 31.083333 │\n",
       " │ 2023/03_2       ┆ 14.366667 │\n",
       " │ 2023/03_3       ┆ 11.466667 │\n",
       " │ 2023/03_4       ┆ 3.033333  │\n",
       " │ …               ┆ …         │\n",
       " │ 2023/03_3403761 ┆ 16.483333 │\n",
       " │ 2023/03_3403762 ┆ 39.366667 │\n",
       " │ 2023/03_3403763 ┆ 23.133333 │\n",
       " │ 2023/03_3403764 ┆ 8.083333  │\n",
       " │ 2023/03_3403765 ┆ 5.583333  │\n",
       " └─────────────────┴───────────┘)"
      ]
     },
     "execution_count": 7,
     "metadata": {},
     "output_type": "execute_result"
    }
   ],
   "source": [
    "df_input, df_target = read_data(input_file)\n",
    "(df_input, df_target)\n"
   ]
  },
  {
   "cell_type": "code",
   "execution_count": 8,
   "id": "d24ac774",
   "metadata": {},
   "outputs": [
    {
     "data": {
      "text/plain": [
       "{'PULocationID': '238', 'DOLocationID': '42'}"
      ]
     },
     "execution_count": 8,
     "metadata": {},
     "output_type": "execute_result"
    }
   ],
   "source": [
    "dicts = df_input.to_dicts()\n",
    "dicts[0]"
   ]
  },
  {
   "cell_type": "code",
   "execution_count": 9,
   "id": "669fda0a",
   "metadata": {},
   "outputs": [],
   "source": [
    "X_val = dv.transform(dicts)\n",
    "y_pred = lr.predict(X_val)"
   ]
  },
  {
   "cell_type": "code",
   "execution_count": 10,
   "id": "64aadfcb-d82b-4d7b-a40e-c8373d0c3330",
   "metadata": {},
   "outputs": [
    {
     "data": {
      "text/plain": [
       "array([16.24590642, 26.1347962 , 11.88426424, ..., 11.59533603,\n",
       "       13.11317847, 12.89999218], shape=(3316216,))"
      ]
     },
     "execution_count": 10,
     "metadata": {},
     "output_type": "execute_result"
    }
   ],
   "source": [
    "y_pred"
   ]
  },
  {
   "cell_type": "markdown",
   "id": "824811df-af93-476b-8f22-68f878b3ba67",
   "metadata": {},
   "source": [
    "### Q1. Standard deviation"
   ]
  },
  {
   "cell_type": "code",
   "execution_count": 18,
   "id": "8e32c0d2",
   "metadata": {},
   "outputs": [
    {
     "data": {
      "text/plain": [
       "np.float64(6.247488852238703)"
      ]
     },
     "execution_count": 18,
     "metadata": {},
     "output_type": "execute_result"
    }
   ],
   "source": [
    "y_pred.std()"
   ]
  },
  {
   "cell_type": "markdown",
   "id": "079be83b-17bb-4c71-b15f-336673dee2ca",
   "metadata": {},
   "source": [
    "### Q2. Preparing the output"
   ]
  },
  {
   "cell_type": "code",
   "execution_count": 21,
   "id": "92599455-2191-4ed7-afa3-98f510a41e1f",
   "metadata": {},
   "outputs": [],
   "source": [
    "df_result = df_target.select(\n",
    "    pl.col(\"ride_id\"),\n",
    "    pl.Series(\"predicted_duration\", y_pred),\n",
    ")"
   ]
  },
  {
   "cell_type": "code",
   "execution_count": 27,
   "id": "390dc8b8",
   "metadata": {},
   "outputs": [],
   "source": [
    "# df_result.to_pandas().to_parquet(\n",
    "#     output_file,\n",
    "#     engine='pyarrow',\n",
    "#     compression=None,\n",
    "#     index=False\n",
    "# )\n",
    "\n",
    "# another way to save\n",
    "df_result.write_parquet(\n",
    "    output_file,\n",
    "    compression=None,\n",
    "    # row_group_size=1000000,\n",
    "    use_pyarrow=True,\n",
    "    compression_level=None,\n",
    "    # file_options={\"version\": \"2.6\"},\n",
    ")"
   ]
  },
  {
   "cell_type": "code",
   "execution_count": 28,
   "id": "d1b9a4df-ea69-4e7a-a41c-4c19f24820d0",
   "metadata": {},
   "outputs": [
    {
     "name": "stdout",
     "output_type": "stream",
     "text": [
      "total 66M\n",
      "-rw-rw-rw- 1 codespace codespace 66M Jun 13 22:15 yellow_tripdata_2023-03.parquet\n"
     ]
    }
   ],
   "source": [
    "!ls -lh output"
   ]
  },
  {
   "cell_type": "markdown",
   "id": "c7dbebb2",
   "metadata": {},
   "source": [
    "### Q3. Script converting"
   ]
  },
  {
   "cell_type": "code",
   "execution_count": 29,
   "id": "982b2006-fd32-440b-a27c-e0f843b53ed1",
   "metadata": {},
   "outputs": [
    {
     "name": "stdout",
     "output_type": "stream",
     "text": [
      "[NbConvertApp] Converting notebook solution.ipynb to script\n",
      "[NbConvertApp] Writing 2456 bytes to solution.py\n"
     ]
    }
   ],
   "source": [
    "!jupyter nbconvert --to script solution.ipynb"
   ]
  }
 ],
 "metadata": {
  "kernelspec": {
   "display_name": ".venv",
   "language": "python",
   "name": "python3"
  },
  "language_info": {
   "codemirror_mode": {
    "name": "ipython",
    "version": 3
   },
   "file_extension": ".py",
   "mimetype": "text/x-python",
   "name": "python",
   "nbconvert_exporter": "python",
   "pygments_lexer": "ipython3",
   "version": "3.12.1"
  }
 },
 "nbformat": 4,
 "nbformat_minor": 5
}
